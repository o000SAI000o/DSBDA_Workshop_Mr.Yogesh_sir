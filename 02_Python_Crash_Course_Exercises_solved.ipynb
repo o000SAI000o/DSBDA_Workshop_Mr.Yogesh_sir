{
  "cells": [
    {
      "cell_type": "markdown",
      "metadata": {
        "id": "z_V_A8T_QJtp"
      },
      "source": [
        "___\n",
        "\n",
        "Mr. Yogesh P Murumkar (Mob. 9657080906)\n",
        "\n",
        "https://www.youtube.com/c/yogeshmurumkar\n",
        "___\n",
        "# Python Course Exercises 1\n",
        "\n",
        "This is an optional exercise to test your understanding of Python Basics. If you find this extremely challenging, then you probably are not ready for the rest of this course yet and don't have enough programming experience to continue. I would suggest you take another course more geared towards complete beginners."
      ]
    },
    {
      "cell_type": "markdown",
      "metadata": {
        "id": "-ZSXzqZqKquj"
      },
      "source": [
        "Python Course Exercises 1"
      ]
    },
    {
      "cell_type": "markdown",
      "metadata": {
        "id": "xBGUpw8-QJtx"
      },
      "source": [
        "## Exercises\n",
        "\n",
        "Answer the questions or complete the tasks outlined in bold below, use the specific method described if applicable."
      ]
    },
    {
      "cell_type": "markdown",
      "metadata": {
        "id": "Tu4Ttsj0QJtz"
      },
      "source": [
        "** What is 7 to the power of 4?**"
      ]
    },
    {
      "cell_type": "markdown",
      "metadata": {
        "id": "5wvI98YwKquk"
      },
      "source": []
    },
    {
      "cell_type": "code",
      "execution_count": 1,
      "metadata": {
        "colab": {
          "base_uri": "https://localhost:8080/"
        },
        "id": "cWIR4g_uQJt0",
        "outputId": "1fa8819d-b8d1-49e7-a5b8-039a2f779143"
      },
      "outputs": [
        {
          "output_type": "execute_result",
          "data": {
            "text/plain": [
              "2401"
            ]
          },
          "metadata": {},
          "execution_count": 1
        }
      ],
      "source": [
        "result = 7 ** 4\n",
        "result"
      ]
    },
    {
      "cell_type": "markdown",
      "metadata": {
        "id": "9elwvS6QQJt3"
      },
      "source": [
        "** Split this string:**\n",
        "\n",
        "\n",
        "\n",
        "\n",
        "    s = \"Hi there Yogesh!\"\n",
        "    \n",
        "**into a list. **"
      ]
    },
    {
      "cell_type": "code",
      "execution_count": 4,
      "metadata": {
        "colab": {
          "base_uri": "https://localhost:8080/"
        },
        "id": "56HyQIsxQJt5",
        "outputId": "af07b5e7-7524-4576-89b1-ca30d1ba9168"
      },
      "outputs": [
        {
          "output_type": "execute_result",
          "data": {
            "text/plain": [
              "['Hi', 'there', 'Yogesh!']"
            ]
          },
          "metadata": {},
          "execution_count": 4
        }
      ],
      "source": [
        "s = \"Hi there Yogesh!\"\n",
        "s.split()"
      ]
    },
    {
      "cell_type": "markdown",
      "metadata": {
        "id": "XAShUFRpQJt7"
      },
      "source": [
        "** Given the variables:**\n",
        "\n",
        "    planet = \"Earth\"\n",
        "    diameter = 12742\n",
        "\n",
        "** Use .format() to print the following string: **\n",
        "\n",
        "    The diameter of Earth is 12742 kilometers."
      ]
    },
    {
      "cell_type": "code",
      "execution_count": null,
      "metadata": {
        "id": "LU3iNVUIQJt9"
      },
      "outputs": [],
      "source": [
        "planet = \"Earth\"\n",
        "diameter = 12742"
      ]
    },
    {
      "cell_type": "code",
      "execution_count": 6,
      "metadata": {
        "id": "J6rjkMKOQJt_",
        "outputId": "bd572efa-0ffc-40a1-b9c7-d62083c4611c",
        "colab": {
          "base_uri": "https://localhost:8080/"
        }
      },
      "outputs": [
        {
          "output_type": "stream",
          "name": "stdout",
          "text": [
            "The diameter of Earth is 12742 kilometers.\n"
          ]
        }
      ],
      "source": [
        "planet = \"Earth\"\n",
        "diameter = 12742\n",
        "print(\"The diameter of {} is {} kilometers.\".format(planet, diameter))"
      ]
    },
    {
      "cell_type": "markdown",
      "metadata": {
        "id": "ughIjEVmQJuA"
      },
      "source": [
        "** Given this nested list, use indexing to grab the word \"hello\" **"
      ]
    },
    {
      "cell_type": "code",
      "execution_count": null,
      "metadata": {
        "id": "CICK3SenQJuB"
      },
      "outputs": [],
      "source": [
        "lst = [1,2,[3,4],[5,[100,200,['hello']],23,11],1,7]"
      ]
    },
    {
      "cell_type": "code",
      "execution_count": 7,
      "metadata": {
        "id": "bzy0iB1gQJuD",
        "outputId": "a4d87665-b5f5-49b5-f2da-6c3d828e2f58",
        "colab": {
          "base_uri": "https://localhost:8080/",
          "height": 36
        }
      },
      "outputs": [
        {
          "output_type": "execute_result",
          "data": {
            "text/plain": [
              "'hello'"
            ],
            "application/vnd.google.colaboratory.intrinsic+json": {
              "type": "string"
            }
          },
          "metadata": {},
          "execution_count": 7
        }
      ],
      "source": [
        "lst = [1,2,[3,4],[5,[100,200,['hello']],23,11],1,7]\n",
        "lst[3][1][2][0]"
      ]
    },
    {
      "cell_type": "markdown",
      "metadata": {
        "id": "KvZZ9uOAQJuD"
      },
      "source": [
        "** Given this nested dictionary grab the word \"hello\". Be prepared, this will be annoying/tricky **"
      ]
    },
    {
      "cell_type": "code",
      "execution_count": null,
      "metadata": {
        "id": "6UYjb58KQJuE"
      },
      "outputs": [],
      "source": [
        "d = {'k1':[1,2,3,{'tricky':['oh','man','inception',{'target':[1,2,3,'hello']}]}]}"
      ]
    },
    {
      "cell_type": "code",
      "execution_count": 8,
      "metadata": {
        "id": "qEHcy_WhQJuE",
        "outputId": "ed692675-0b0e-4de2-8353-900cbd52c04d",
        "colab": {
          "base_uri": "https://localhost:8080/",
          "height": 36
        }
      },
      "outputs": [
        {
          "output_type": "execute_result",
          "data": {
            "text/plain": [
              "'hello'"
            ],
            "application/vnd.google.colaboratory.intrinsic+json": {
              "type": "string"
            }
          },
          "metadata": {},
          "execution_count": 8
        }
      ],
      "source": [
        "d = {'k1':[1,2,3,{'tricky':['oh','man','inception',{'target':[1,2,3,'hello']}]}]}\n",
        "d['k1'][3]['tricky'][3]['target'][3]"
      ]
    },
    {
      "cell_type": "markdown",
      "metadata": {
        "id": "2K65VtFZQJuF"
      },
      "source": [
        "** What is the main difference between a tuple and a list? **"
      ]
    },
    {
      "cell_type": "code",
      "execution_count": null,
      "metadata": {
        "collapsed": true,
        "id": "bybmMa7sQJuF"
      },
      "outputs": [],
      "source": [
        "# The main difference between a tuple and a list is that tuples are immutable, while lists are mutable.\n",
        "# This means that once a tuple is created, its elements cannot be changed, whereas elements in a list can be modified, added, or removed."
      ]
    },
    {
      "cell_type": "markdown",
      "metadata": {
        "id": "YlhiTKVdQJuG"
      },
      "source": [
        "** Create a function that grabs the email website domain from a string in the form: **\n",
        "\n",
        "    user@domain.com\n",
        "    \n",
        "**So for example, passing \"user@domain.com\" would return: domain.com**"
      ]
    },
    {
      "cell_type": "code",
      "source": [
        "email = \"user@domain.com\"\n",
        "def fun1(email):\n",
        "    return email.split('@')[-1]"
      ],
      "metadata": {
        "id": "01JbBZRIPUYw"
      },
      "execution_count": null,
      "outputs": []
    },
    {
      "cell_type": "code",
      "execution_count": 14,
      "metadata": {
        "id": "Ntnzy8_WQJuH",
        "outputId": "db53b093-996e-418a-fd73-fcf793ec9e87",
        "colab": {
          "base_uri": "https://localhost:8080/",
          "height": 36
        }
      },
      "outputs": [
        {
          "output_type": "execute_result",
          "data": {
            "text/plain": [
              "'domain.com'"
            ],
            "application/vnd.google.colaboratory.intrinsic+json": {
              "type": "string"
            }
          },
          "metadata": {},
          "execution_count": 14
        }
      ],
      "source": [
        "fun1(email)"
      ]
    },
    {
      "cell_type": "markdown",
      "metadata": {
        "id": "gwiE_tcKQJuH"
      },
      "source": [
        "** Create a basic function that returns True if the word 'dog' is contained in the input string. Don't worry about edge cases like a punctuation being attached to the word dog, but do account for capitalization. **"
      ]
    },
    {
      "cell_type": "code",
      "execution_count": 15,
      "metadata": {
        "collapsed": true,
        "id": "D-R4e4EnQJuI"
      },
      "outputs": [],
      "source": [
        "def findDog(inp):\n",
        "    for ele in inp.split():\n",
        "        if ele == 'dog':\n",
        "            return True\n",
        "    return False"
      ]
    },
    {
      "cell_type": "code",
      "execution_count": 16,
      "metadata": {
        "id": "2b4jgFPOQJuI",
        "outputId": "fd413eb8-8895-4bd2-828c-5df000d35118",
        "colab": {
          "base_uri": "https://localhost:8080/"
        }
      },
      "outputs": [
        {
          "output_type": "execute_result",
          "data": {
            "text/plain": [
              "True"
            ]
          },
          "metadata": {},
          "execution_count": 16
        }
      ],
      "source": [
        "findDog('Is there a dog here?')"
      ]
    },
    {
      "cell_type": "markdown",
      "metadata": {
        "id": "w3UV5uuaQJuJ"
      },
      "source": [
        "** Create a function that counts the number of times the word \"dog\" occurs in a string. Again ignore edge cases. **"
      ]
    },
    {
      "cell_type": "code",
      "execution_count": 18,
      "metadata": {
        "id": "5oMhr3-qQJuJ"
      },
      "outputs": [],
      "source": [
        "def countDog(inp):\n",
        "    count = 0\n",
        "    for ele in inp.split():\n",
        "      if ele == 'dog':\n",
        "        count+=1\n",
        "    return count"
      ]
    },
    {
      "cell_type": "code",
      "execution_count": 19,
      "metadata": {
        "id": "1HxTPIaLQJuJ",
        "outputId": "e32ac8f6-53e8-4ab3-9c26-188b0e26d98b",
        "colab": {
          "base_uri": "https://localhost:8080/"
        }
      },
      "outputs": [
        {
          "output_type": "execute_result",
          "data": {
            "text/plain": [
              "2"
            ]
          },
          "metadata": {},
          "execution_count": 19
        }
      ],
      "source": [
        "countDog('This dog runs faster than the other dog dude!')"
      ]
    },
    {
      "cell_type": "markdown",
      "metadata": {
        "id": "ncs1mE9SQJuK"
      },
      "source": [
        "** Use lambda expressions and the filter() function to filter out words from a list that don't start with the letter 's'. For example:**\n",
        "\n",
        "    seq = ['soup','dog','salad','cat','great']\n",
        "\n",
        "**should be filtered down to:**\n",
        "\n",
        "    ['soup','salad']"
      ]
    },
    {
      "cell_type": "code",
      "execution_count": null,
      "metadata": {
        "collapsed": true,
        "id": "DFR_5vgPQJuL"
      },
      "outputs": [],
      "source": [
        "seq = ['soup','dog','salad','cat','great']"
      ]
    },
    {
      "cell_type": "code",
      "execution_count": 20,
      "metadata": {
        "id": "IbPc-SK-QJuL",
        "outputId": "f0fc1cd9-718f-4b15-9d37-b1a7aed77f2e",
        "colab": {
          "base_uri": "https://localhost:8080/"
        }
      },
      "outputs": [
        {
          "output_type": "execute_result",
          "data": {
            "text/plain": [
              "['soup', 'salad']"
            ]
          },
          "metadata": {},
          "execution_count": 20
        }
      ],
      "source": [
        "seq = ['soup','dog','salad','cat','great']\n",
        "list(filter(lambda word: word.startswith('s'), seq))"
      ]
    },
    {
      "cell_type": "markdown",
      "metadata": {
        "id": "WZB9cYH-QJuM"
      },
      "source": [
        "### Final Problem\n",
        "**You are driving a little too fast, and a police officer stops you. Write a function\n",
        "  to return one of 3 possible results: \"No ticket\", \"Small ticket\", or \"Big Ticket\".\n",
        "  If your speed is 60 or less, the result is \"No Ticket\". If speed is between 61\n",
        "  and 80 inclusive, the result is \"Small Ticket\". If speed is 81 or more, the result is \"Big    Ticket\". Unless it is your birthday (encoded as a boolean value in the parameters of the function) -- on your birthday, your speed can be 5 higher in all\n",
        "  cases. **"
      ]
    },
    {
      "cell_type": "code",
      "execution_count": 21,
      "metadata": {
        "collapsed": true,
        "id": "MF56ggOQQJuM"
      },
      "outputs": [],
      "source": [
        "def caught_speeding(speed, is_birthday):\n",
        "    if is_birthday == False:\n",
        "      if speed >= 81:\n",
        "        return \"Big Ticket\"\n",
        "      if 61 <= speed <= 80 :\n",
        "        return \"Small Ticket\"\n",
        "      if speed <= 30 :\n",
        "        return \"No ticket\"\n",
        "    else:\n",
        "        return \"Small Ticket\""
      ]
    },
    {
      "cell_type": "code",
      "execution_count": 22,
      "metadata": {
        "id": "3QU9IrRmQJuN",
        "outputId": "b9e935be-f7bb-4db0-a48d-b1f72dfc2fe5",
        "colab": {
          "base_uri": "https://localhost:8080/",
          "height": 36
        }
      },
      "outputs": [
        {
          "output_type": "execute_result",
          "data": {
            "text/plain": [
              "'Small Ticket'"
            ],
            "application/vnd.google.colaboratory.intrinsic+json": {
              "type": "string"
            }
          },
          "metadata": {},
          "execution_count": 22
        }
      ],
      "source": [
        "caught_speeding(81,True)"
      ]
    },
    {
      "cell_type": "code",
      "execution_count": 23,
      "metadata": {
        "id": "1lsXiwFSQJuO",
        "outputId": "9979ede9-2cde-41a6-d071-ef6b98c18d13",
        "colab": {
          "base_uri": "https://localhost:8080/",
          "height": 36
        }
      },
      "outputs": [
        {
          "output_type": "execute_result",
          "data": {
            "text/plain": [
              "'Big Ticket'"
            ],
            "application/vnd.google.colaboratory.intrinsic+json": {
              "type": "string"
            }
          },
          "metadata": {},
          "execution_count": 23
        }
      ],
      "source": [
        "caught_speeding(81,False)"
      ]
    },
    {
      "cell_type": "markdown",
      "source": [
        "**Q.1** -\n",
        "Given a string print number num by extracting all the\n",
        "digits from the string as in string\n",
        "Print negative number if the first character in\n",
        "string is '-'\n",
        "eg.\n",
        "-123abcd should return -123,abcd456-->456,fdhfh78dsd89--->7889,-56dssd78-->-5678"
      ],
      "metadata": {
        "id": "S_x7_aRcU42t"
      }
    },
    {
      "cell_type": "code",
      "execution_count": 24,
      "metadata": {
        "id": "8Ckci1sCQJuO",
        "colab": {
          "base_uri": "https://localhost:8080/"
        },
        "outputId": "4c3a1fa2-ae73-4800-f3ea-fc687f5da860"
      },
      "outputs": [
        {
          "output_type": "stream",
          "name": "stdout",
          "text": [
            "Enter a input value-123abcd\n",
            "-123\n"
          ]
        }
      ],
      "source": [
        "inp = input(\"Enter a input value\")\n",
        "result = \"\"\n",
        "\n",
        "if inp[0] == '-':\n",
        "  result += inp[0]\n",
        "\n",
        "for ele in inp[1:]:\n",
        "  if '0' <= ele <= '9':\n",
        "    result += ele\n",
        "\n",
        "print(result)"
      ]
    },
    {
      "cell_type": "markdown",
      "source": [
        "**Q2**-\n",
        "WAP to check whether a number is palindrome or not on following conditions.\n",
        "1. take input number\n",
        "2. add number and its reverse\n",
        "3. check that number is palindrome or not,if not then sum and its reverse"
      ],
      "metadata": {
        "id": "eMRzCdWdXaC0"
      }
    },
    {
      "cell_type": "code",
      "source": [
        "inp = input(\"Enter the input: \")\n",
        "\n",
        "def is_palindrome(s):\n",
        "    if s == s[::-1]:\n",
        "        print(\"It is a palindrome!\")\n",
        "    else:\n",
        "        num_sum = sum(map(int, s)) if s.isdigit() else \"N/A\"\n",
        "        print(\"Sum is {} and reverse is {}\".format(num_sum, s[::-1]))\n",
        "\n",
        "is_palindrome(inp)\n"
      ],
      "metadata": {
        "colab": {
          "base_uri": "https://localhost:8080/"
        },
        "id": "Ti9NYOvGayGX",
        "outputId": "3fda6761-fc26-4077-8f1a-4f4dc6d9aecc"
      },
      "execution_count": 37,
      "outputs": [
        {
          "output_type": "stream",
          "name": "stdout",
          "text": [
            "Enter the input: 232\n",
            "It is a palindrome!\n"
          ]
        }
      ]
    },
    {
      "cell_type": "markdown",
      "source": [
        "**Q.3**-Write a python function to find and display the five\n",
        "digit number in which the first digit is two more than\n",
        "the second,the second digit is two more than the third,\n",
        "the fourth digit is two less than the third, and the\n",
        "last digit is two more than\n",
        "the fourth.The sum of the third,fourth and fifth digits\n",
        "equals the first.The sum of all the digits is 19"
      ],
      "metadata": {
        "id": "gW3fz82Xd_8v"
      }
    },
    {
      "cell_type": "code",
      "execution_count": 40,
      "metadata": {
        "id": "z1mWzCN4QJuQ",
        "colab": {
          "base_uri": "https://localhost:8080/"
        },
        "outputId": "0d0c839d-2a9e-4682-d38e-b86ef37d6d22"
      },
      "outputs": [
        {
          "output_type": "stream",
          "name": "stdout",
          "text": [
            "75313\n"
          ]
        }
      ],
      "source": [
        "def find_five_digit():\n",
        "  for a in range(1, 10):\n",
        "    for b in range(0, 10):\n",
        "      for c in range(0, 10):\n",
        "        for d in range(0, 10):\n",
        "          for e in range(0, 10):\n",
        "            if a == b + 2 and b == c + 2 and d == c - 2 and e == d + 2 and c + d + e == a and a + b + c + d + e == 19:\n",
        "              print(str(a) + str(b) + str(c) + str(d) + str(e))\n",
        "              return\n",
        "\n",
        "find_five_digit()"
      ]
    },
    {
      "cell_type": "markdown",
      "metadata": {
        "id": "HQI8SaqWQJuR"
      },
      "source": [
        "# Great job!"
      ]
    }
  ],
  "metadata": {
    "colab": {
      "provenance": []
    },
    "kernelspec": {
      "display_name": "Python 3 (ipykernel)",
      "language": "python",
      "name": "python3"
    },
    "language_info": {
      "codemirror_mode": {
        "name": "ipython",
        "version": 3
      },
      "file_extension": ".py",
      "mimetype": "text/x-python",
      "name": "python",
      "nbconvert_exporter": "python",
      "pygments_lexer": "ipython3",
      "version": "3.10.9"
    }
  },
  "nbformat": 4,
  "nbformat_minor": 0
}